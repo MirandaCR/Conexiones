{
 "cells": [
  {
   "cell_type": "markdown",
   "id": "8a50a485",
   "metadata": {},
   "source": [
    "### Setting local .ddl file"
   ]
  },
  {
   "cell_type": "code",
   "execution_count": 30,
   "id": "92847070",
   "metadata": {},
   "outputs": [
    {
     "data": {
      "text/plain": [
       "<System.Reflection.RuntimeAssembly object at 0x0000026E873F9E80>"
      ]
     },
     "execution_count": 30,
     "metadata": {},
     "output_type": "execute_result"
    }
   ],
   "source": [
    "#https://silentinstallhq.com/microsoft-analysis-services-adomd-net-silent-install-how-to-guide/\n",
    "import clr\n",
    "\n",
    "path_ddl = 'C:/Program Files (x86)/Microsoft.NET/ADOMD.NET/160/Microsoft.AnalysisServices.AdomdClient.dll'\n",
    "\n",
    "clr.AddReference(path_ddl)\n",
    "clr.AddReference('Microsoft.AnalysisServices.AdomdClient')"
   ]
  },
  {
   "cell_type": "code",
   "execution_count": 28,
   "id": "e85544b9",
   "metadata": {},
   "outputs": [],
   "source": [
    "# List of substrings to check for in the paths\n",
    "substrings_to_remove = [\"ADOMD.NET\"]\n",
    "\n",
    "# Filter the paths and create a new list without the unwanted substrings\n",
    "new_path = [p for p in sys.path if all(sub not in p for sub in substrings_to_remove)]\n",
    "\n",
    "# Update sys.path to use the new list\n",
    "sys.path = new_path"
   ]
  },
  {
   "cell_type": "markdown",
   "id": "be696ef3",
   "metadata": {},
   "source": [
    "### Setting Path"
   ]
  },
  {
   "cell_type": "code",
   "execution_count": 9,
   "id": "05ad0bc7",
   "metadata": {},
   "outputs": [
    {
     "name": "stdout",
     "output_type": "stream",
     "text": [
      "['C:\\\\Users\\\\ADMIN\\\\Desktop\\\\TDW_SCRIPTS', 'C:\\\\Users\\\\ADMIN\\\\anaconda3\\\\python39.zip', 'C:\\\\Users\\\\ADMIN\\\\anaconda3\\\\DLLs', 'C:\\\\Users\\\\ADMIN\\\\anaconda3\\\\lib', 'C:\\\\Users\\\\ADMIN\\\\anaconda3', '', 'C:\\\\Users\\\\ADMIN\\\\AppData\\\\Roaming\\\\Python\\\\Python39\\\\site-packages', 'C:\\\\Users\\\\ADMIN\\\\AppData\\\\Roaming\\\\Python\\\\Python39\\\\site-packages\\\\win32', 'C:\\\\Users\\\\ADMIN\\\\AppData\\\\Roaming\\\\Python\\\\Python39\\\\site-packages\\\\win32\\\\lib', 'C:\\\\Users\\\\ADMIN\\\\AppData\\\\Roaming\\\\Python\\\\Python39\\\\site-packages\\\\Pythonwin', 'C:\\\\Users\\\\ADMIN\\\\anaconda3\\\\lib\\\\site-packages', 'C:\\\\Users\\\\ADMIN\\\\anaconda3\\\\lib\\\\site-packages\\\\win32', 'C:\\\\Users\\\\ADMIN\\\\anaconda3\\\\lib\\\\site-packages\\\\win32\\\\lib', 'C:\\\\Users\\\\ADMIN\\\\anaconda3\\\\lib\\\\site-packages\\\\Pythonwin', 'C:\\\\Users\\\\ADMIN\\\\anaconda3\\\\lib\\\\site-packages\\\\IPython\\\\extensions', 'C:\\\\Users\\\\ADMIN\\\\.ipython', 'C:\\\\Windows\\\\Microsoft.NET\\\\Framework64\\\\v4.0.30319\\\\', 'C:/Program Files (x86)/Microsoft.NET/ADOMD.NET/160/Microsoft.AnalysisServices.AdomdClient.dll']\n"
     ]
    }
   ],
   "source": [
    "import pandas as pd\n",
    "from sys import path\n",
    "import sys\n",
    "import os\n",
    "\n",
    "path.append(path_ddl)\n",
    "print(path)\n",
    "\n",
    "from pyadomd import Pyadomd"
   ]
  },
  {
   "cell_type": "markdown",
   "id": "d5a78074",
   "metadata": {},
   "source": [
    "### Connection to Database from PBI Report and getting data"
   ]
  },
  {
   "cell_type": "code",
   "execution_count": 10,
   "id": "5ebe492d",
   "metadata": {},
   "outputs": [],
   "source": [
    "# Database ID and port from dax studio in select * from $SYSTEM.DBSCHEMA_CATALOGS\n",
    "model_name = '58e307a4-fc93-43d0-a464-a74463cba719'\n",
    "port_number = 'localhost:20408'\n",
    "\n",
    "conn_string = f'Provider=MSOLAP;Data Source={port_number};Catalog={model_name};'\n",
    "conn = Pyadomd(conn_string)\n",
    "\n",
    "\n",
    "def get_PBIData(dax_query,conn):\n",
    "    with conn as con:\n",
    "        with con.cursor().execute(dax_query) as cur:\n",
    "            DF = pd.DataFrame(cur.fetchone(), columns = [i.name for i in cur.description])\n",
    "    \n",
    "    return DF"
   ]
  },
  {
   "cell_type": "code",
   "execution_count": 26,
   "id": "12334c3a",
   "metadata": {},
   "outputs": [
    {
     "data": {
      "text/html": [
       "<div>\n",
       "<style scoped>\n",
       "    .dataframe tbody tr th:only-of-type {\n",
       "        vertical-align: middle;\n",
       "    }\n",
       "\n",
       "    .dataframe tbody tr th {\n",
       "        vertical-align: top;\n",
       "    }\n",
       "\n",
       "    .dataframe thead th {\n",
       "        text-align: right;\n",
       "    }\n",
       "</style>\n",
       "<table border=\"1\" class=\"dataframe\">\n",
       "  <thead>\n",
       "    <tr style=\"text-align: right;\">\n",
       "      <th></th>\n",
       "      <th>Fecha[Date]</th>\n",
       "      <th>Productos[proId]</th>\n",
       "      <th>Productos[proNombre]</th>\n",
       "      <th>Productos[Categoria]</th>\n",
       "      <th>Productos[Subcategoria]</th>\n",
       "      <th>Tiendas[sucId]</th>\n",
       "      <th>Tiendas[NombreSucursal]</th>\n",
       "      <th>[VENTA]</th>\n",
       "    </tr>\n",
       "  </thead>\n",
       "  <tbody>\n",
       "    <tr>\n",
       "      <th>0</th>\n",
       "      <td>2023-09-15</td>\n",
       "      <td>29622.0</td>\n",
       "      <td>CAFE AMERICANO AE-02</td>\n",
       "      <td>Otras bebidas</td>\n",
       "      <td>No alcohol</td>\n",
       "      <td>8</td>\n",
       "      <td>AEROPUERTO- 2</td>\n",
       "      <td>77.44</td>\n",
       "    </tr>\n",
       "    <tr>\n",
       "      <th>1</th>\n",
       "      <td>2023-09-14</td>\n",
       "      <td>29622.0</td>\n",
       "      <td>CAFE AMERICANO AE-02</td>\n",
       "      <td>Otras bebidas</td>\n",
       "      <td>No alcohol</td>\n",
       "      <td>8</td>\n",
       "      <td>AEROPUERTO- 2</td>\n",
       "      <td>89.85</td>\n",
       "    </tr>\n",
       "    <tr>\n",
       "      <th>2</th>\n",
       "      <td>2023-09-13</td>\n",
       "      <td>29622.0</td>\n",
       "      <td>CAFE AMERICANO AE-02</td>\n",
       "      <td>Otras bebidas</td>\n",
       "      <td>No alcohol</td>\n",
       "      <td>8</td>\n",
       "      <td>AEROPUERTO- 2</td>\n",
       "      <td>102.23</td>\n",
       "    </tr>\n",
       "    <tr>\n",
       "      <th>3</th>\n",
       "      <td>2023-09-03</td>\n",
       "      <td>29622.0</td>\n",
       "      <td>CAFE AMERICANO AE-02</td>\n",
       "      <td>Otras bebidas</td>\n",
       "      <td>No alcohol</td>\n",
       "      <td>8</td>\n",
       "      <td>AEROPUERTO- 2</td>\n",
       "      <td>55.77</td>\n",
       "    </tr>\n",
       "    <tr>\n",
       "      <th>4</th>\n",
       "      <td>2023-08-20</td>\n",
       "      <td>29622.0</td>\n",
       "      <td>CAFE AMERICANO AE-02</td>\n",
       "      <td>Otras bebidas</td>\n",
       "      <td>No alcohol</td>\n",
       "      <td>8</td>\n",
       "      <td>AEROPUERTO- 2</td>\n",
       "      <td>49.59</td>\n",
       "    </tr>\n",
       "  </tbody>\n",
       "</table>\n",
       "</div>"
      ],
      "text/plain": [
       "  Fecha[Date]  Productos[proId]  Productos[proNombre] Productos[Categoria]  \\\n",
       "0  2023-09-15           29622.0  CAFE AMERICANO AE-02        Otras bebidas   \n",
       "1  2023-09-14           29622.0  CAFE AMERICANO AE-02        Otras bebidas   \n",
       "2  2023-09-13           29622.0  CAFE AMERICANO AE-02        Otras bebidas   \n",
       "3  2023-09-03           29622.0  CAFE AMERICANO AE-02        Otras bebidas   \n",
       "4  2023-08-20           29622.0  CAFE AMERICANO AE-02        Otras bebidas   \n",
       "\n",
       "  Productos[Subcategoria]  Tiendas[sucId] Tiendas[NombreSucursal]  [VENTA]  \n",
       "0              No alcohol               8           AEROPUERTO- 2    77.44  \n",
       "1              No alcohol               8           AEROPUERTO- 2    89.85  \n",
       "2              No alcohol               8           AEROPUERTO- 2   102.23  \n",
       "3              No alcohol               8           AEROPUERTO- 2    55.77  \n",
       "4              No alcohol               8           AEROPUERTO- 2    49.59  "
      ]
     },
     "execution_count": 26,
     "metadata": {},
     "output_type": "execute_result"
    }
   ],
   "source": [
    "# Getting data\n",
    "dax_query = '''\n",
    "EVALUATE \n",
    "SUMMARIZECOLUMNS(\n",
    "Fecha[Date],\n",
    "Productos[proId],\n",
    "Productos[proNombre],\n",
    "Productos[Categoria],\n",
    "Productos[Subcategoria],\n",
    "Tiendas[sucId],\n",
    "Tiendas[NombreSucursal],\n",
    "FILTER(Fecha,Fecha[Año] >=2022),\n",
    "\"VENTA\", [Venta]\n",
    ")\n",
    "'''\n",
    "\n",
    "df_ventas = get_PBIData(dax_query,conn)\n",
    "df_ventas.head()"
   ]
  },
  {
   "cell_type": "code",
   "execution_count": 29,
   "id": "79f35787",
   "metadata": {},
   "outputs": [
    {
     "data": {
      "text/plain": [
       "(589661, 8)"
      ]
     },
     "execution_count": 29,
     "metadata": {},
     "output_type": "execute_result"
    }
   ],
   "source": [
    "df_ventas.shape"
   ]
  }
 ],
 "metadata": {
  "kernelspec": {
   "display_name": "Python 3 (ipykernel)",
   "language": "python",
   "name": "python3"
  },
  "language_info": {
   "codemirror_mode": {
    "name": "ipython",
    "version": 3
   },
   "file_extension": ".py",
   "mimetype": "text/x-python",
   "name": "python",
   "nbconvert_exporter": "python",
   "pygments_lexer": "ipython3",
   "version": "3.9.13"
  }
 },
 "nbformat": 4,
 "nbformat_minor": 5
}
